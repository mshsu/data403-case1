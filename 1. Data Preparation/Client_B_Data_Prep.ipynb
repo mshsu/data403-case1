{
  "nbformat": 4,
  "nbformat_minor": 0,
  "metadata": {
    "colab": {
      "provenance": []
    },
    "kernelspec": {
      "name": "python3",
      "display_name": "Python 3"
    },
    "language_info": {
      "name": "python"
    }
  },
  "cells": [
    {
      "cell_type": "markdown",
      "source": [
        "# Libraries"
      ],
      "metadata": {
        "id": "d9h3lPlyRrA4"
      }
    },
    {
      "cell_type": "code",
      "source": [
        "!pip install sodapy"
      ],
      "metadata": {
        "colab": {
          "base_uri": "https://localhost:8080/"
        },
        "id": "l9MBKdjN8Rxr",
        "outputId": "f331e732-c751-4dcf-b24b-3969296fa456"
      },
      "execution_count": null,
      "outputs": [
        {
          "output_type": "stream",
          "name": "stdout",
          "text": [
            "Requirement already satisfied: sodapy in /usr/local/lib/python3.10/dist-packages (2.2.0)\n",
            "Requirement already satisfied: requests>=2.28.1 in /usr/local/lib/python3.10/dist-packages (from sodapy) (2.31.0)\n",
            "Requirement already satisfied: charset-normalizer<4,>=2 in /usr/local/lib/python3.10/dist-packages (from requests>=2.28.1->sodapy) (3.3.0)\n",
            "Requirement already satisfied: idna<4,>=2.5 in /usr/local/lib/python3.10/dist-packages (from requests>=2.28.1->sodapy) (3.4)\n",
            "Requirement already satisfied: urllib3<3,>=1.21.1 in /usr/local/lib/python3.10/dist-packages (from requests>=2.28.1->sodapy) (2.0.6)\n",
            "Requirement already satisfied: certifi>=2017.4.17 in /usr/local/lib/python3.10/dist-packages (from requests>=2.28.1->sodapy) (2023.7.22)\n"
          ]
        }
      ]
    },
    {
      "cell_type": "code",
      "execution_count": null,
      "metadata": {
        "id": "yX-wFiRRLVeO"
      },
      "outputs": [],
      "source": [
        "import pandas as pd\n",
        "import holidays\n",
        "import datetime\n",
        "import requests\n",
        "from sodapy import Socrata\n",
        "import matplotlib.pyplot as plt"
      ]
    },
    {
      "cell_type": "markdown",
      "source": [
        "# Data Collection"
      ],
      "metadata": {
        "id": "IBjBpYPrRqkM"
      }
    },
    {
      "cell_type": "markdown",
      "source": [
        "## Liquor Sales"
      ],
      "metadata": {
        "id": "_4TZhrm1UBnj"
      }
    },
    {
      "cell_type": "code",
      "source": [
        "# date_extract_dow() - 0 = Sunday, 6 = Saturday\n",
        "client = Socrata(\"data.iowa.gov\", None)\n",
        "q = \"\"\"\n",
        "  select Date, date_extract_m(Date) as Month, date_extract_dow(Date) as DayOfWeek, name as StoreName, Zipcode, City, County, category_name, sale_liters, sale_dollars, state_bottle_retail\n",
        "  where date_extract_y(date) >= 2022\n",
        "  LIMIT 100000\n",
        "\"\"\"\n",
        "results = client.get(\"m3tr-qhgy\", query=q)\n",
        "df_liquor = pd.DataFrame.from_records(results)"
      ],
      "metadata": {
        "id": "_BI2yyJKLvcY",
        "colab": {
          "base_uri": "https://localhost:8080/"
        },
        "outputId": "ca2614ca-3f45-4550-c8da-ec06e0c933be"
      },
      "execution_count": null,
      "outputs": [
        {
          "output_type": "stream",
          "name": "stderr",
          "text": [
            "WARNING:root:Requests made without an app_token will be subject to strict throttling limits.\n"
          ]
        }
      ]
    },
    {
      "cell_type": "code",
      "source": [
        "df_liquor[\"DayOfWeek\"].value_counts()"
      ],
      "metadata": {
        "colab": {
          "base_uri": "https://localhost:8080/"
        },
        "id": "7ugqs_yWA90J",
        "outputId": "cc264c4d-c061-4e12-e6ee-5a180165472e"
      },
      "execution_count": null,
      "outputs": [
        {
          "output_type": "execute_result",
          "data": {
            "text/plain": [
              "2    21406\n",
              "3    20168\n",
              "5    19961\n",
              "4    18106\n",
              "1    13469\n",
              "0     6890\n",
              "Name: DayOfWeek, dtype: int64"
            ]
          },
          "metadata": {},
          "execution_count": 9
        }
      ]
    },
    {
      "cell_type": "markdown",
      "source": [
        "## Colleges"
      ],
      "metadata": {
        "id": "oyuCAswyUE8k"
      }
    },
    {
      "cell_type": "code",
      "source": [
        "url = \"https://en.wikipedia.org/wiki/List_of_colleges_and_universities_in_Iowa\"\n",
        "df_colleges = pd.read_html(url)[0]"
      ],
      "metadata": {
        "id": "zKgJ4Rf9XqvX"
      },
      "execution_count": null,
      "outputs": []
    },
    {
      "cell_type": "markdown",
      "source": [
        "# Data Cleaning"
      ],
      "metadata": {
        "id": "SBnvmqmQRvWj"
      }
    },
    {
      "cell_type": "markdown",
      "source": [
        "## Functions"
      ],
      "metadata": {
        "id": "6lVhi1huR4bs"
      }
    },
    {
      "cell_type": "code",
      "source": [
        "us_holidays = holidays.country_holidays('US', years=range(2012, 2024))\n",
        "def near_holi(date):\n",
        "  return int(bool(us_holidays[date - datetime.timedelta(weeks=2):date]))"
      ],
      "metadata": {
        "id": "CDknzPFJRg8h"
      },
      "execution_count": null,
      "outputs": []
    },
    {
      "cell_type": "code",
      "source": [
        "def alc_type_cat(alc):\n",
        "    alc_categories = {\n",
        "        \"VODKA\": [\"VODKA\"],\n",
        "        \"WHISKY\": [\"WHISKY\", \"WHISKIES\"],\n",
        "        \"RUM\": [\"RUM\"],\n",
        "        \"GIN\": [\"GIN\"],\n",
        "        \"TEQUILA\": [\"TEQUILA\"],\n",
        "        \"BRANDY\": [\"BRANDIES\", \"BRANY\"],\n",
        "        \"SCHNAPPS\": [\"SCHNAPPS\"],\n",
        "        \"SPIRITS\": [\"SPIRITS\"],\n",
        "    }\n",
        "\n",
        "    for category, keywords in alc_categories.items():\n",
        "        for keyword in keywords:\n",
        "          try:\n",
        "            if keyword in alc:\n",
        "                return category\n",
        "          except:\n",
        "            return \"OTHER\"\n",
        "    return \"OTHER\""
      ],
      "metadata": {
        "id": "xnRCtJzRfPAB"
      },
      "execution_count": null,
      "outputs": []
    },
    {
      "cell_type": "code",
      "source": [
        "def classify_college_size(enrollment):\n",
        "    if enrollment > 10000:\n",
        "        return \"Large\"\n",
        "    elif enrollment > 3000:\n",
        "        return \"Midsize\"\n",
        "    else:\n",
        "        return \"Small\""
      ],
      "metadata": {
        "id": "n0eOfcHHG-Oo"
      },
      "execution_count": null,
      "outputs": []
    },
    {
      "cell_type": "markdown",
      "source": [
        "## Feature Creation/Manipulation"
      ],
      "metadata": {
        "id": "RJlDWnrTR68y"
      }
    },
    {
      "cell_type": "code",
      "source": [
        "df_colleges.rename(columns={\"Location(s)[note 2]\": \"City\"}, inplace=True)\n",
        "df_colleges.rename(columns={\"Enrollment[7] (spring 2012)\": \"Enrollment\"}, inplace=True)\n",
        "df_colleges = df_colleges[[\"Institution\", \"City\", \"Enrollment\"]]\n",
        "df_colleges[\"City\"] = df_colleges[\"City\"].str.upper()"
      ],
      "metadata": {
        "id": "WOVMoU63YVvS",
        "colab": {
          "base_uri": "https://localhost:8080/"
        },
        "outputId": "119c3dd2-544e-4f35-d745-05a6f8ff3c4f"
      },
      "execution_count": null,
      "outputs": [
        {
          "output_type": "stream",
          "name": "stderr",
          "text": [
            "<ipython-input-14-6ef766366104>:4: SettingWithCopyWarning: \n",
            "A value is trying to be set on a copy of a slice from a DataFrame.\n",
            "Try using .loc[row_indexer,col_indexer] = value instead\n",
            "\n",
            "See the caveats in the documentation: https://pandas.pydata.org/pandas-docs/stable/user_guide/indexing.html#returning-a-view-versus-a-copy\n",
            "  df_colleges[\"City\"] = df_colleges[\"City\"].str.upper()\n"
          ]
        }
      ]
    },
    {
      "cell_type": "code",
      "source": [
        "df_liquor[\"sale_liters\"] =df_liquor[\"sale_liters\"].astype(float)\n",
        "df_liquor[\"sale_dollars\"] = df_liquor[\"sale_dollars\"].astype(float)"
      ],
      "metadata": {
        "id": "UECEtU27dHPS"
      },
      "execution_count": null,
      "outputs": []
    },
    {
      "cell_type": "code",
      "source": [
        "df_liquor = df_liquor[df_liquor[\"sale_dollars\"] > 0]\n",
        "df_liquor = df_liquor[df_liquor[\"sale_dollars\"] > 0]\n",
        "df_liquor.dropna(subset=['City', 'Zipcode', 'County'], inplace=True)"
      ],
      "metadata": {
        "id": "c7U2dLDoX3KK"
      },
      "execution_count": null,
      "outputs": []
    },
    {
      "cell_type": "code",
      "source": [
        "df_liquor[\"Date\"] = df_liquor[\"Date\"].map(lambda date: datetime.datetime.strptime(date, \"%Y-%m-%dT%H:%M:%S.%f\"))\n",
        "df_liquor[\"NearHoliday\"] = df_liquor[\"Date\"].map(near_holi)\n",
        "df_liquor[\"CostPerLiter\"] = df_liquor[\"sale_dollars\"] / df_liquor[\"sale_liters\"]\n",
        "df_liquor[\"Category\"] = df_liquor[\"category_name\"].map(alc_type_cat)\n",
        "df_liquor[\"CategoryNum\"] = df_liquor[\"Category\"].map(\n",
        "    {\n",
        "        \"VODKA\": 1,\n",
        "        \"WHISKY\": 2,\n",
        "        \"RUM\": 3,\n",
        "        \"GIN\": 4,\n",
        "        \"TEQUILA\": 5,\n",
        "        \"BRANDY\": 6,\n",
        "        \"SCHNAPPS\": 7,\n",
        "        \"SPIRITS\": 8,\n",
        "        \"OTHER\": 9\n",
        "      })\n",
        "df_colleges[\"Student Pop\"] = df_colleges[\"Enrollment\"].str.replace(r\"\\[.*\\]\", \"\", regex=True)\n",
        "df_colleges[\"Student Pop\"] = df_colleges[\"Student Pop\"].str.replace(\",\", \"\").astype(int)\n",
        "student_pop = pd.DataFrame(df_colleges.groupby(\"City\")[\"Student Pop\"].sum())\n",
        "college_count = pd.DataFrame(df_colleges.groupby(\"City\")[\"Institution\"].count())\n",
        "student_pop = student_pop.merge(college_count, how=\"left\", on=\"City\")\n",
        "student_pop[\"Size\"] = student_pop[\"Student Pop\"].apply(classify_college_size)\n",
        "student_pop\n",
        "# !!!Size is from 2012 data!!!\n",
        "df_liquor = df_liquor.merge(student_pop, how=\"left\", on=\"City\")"
      ],
      "metadata": {
        "id": "a3FIC3vEQNsS"
      },
      "execution_count": null,
      "outputs": []
    },
    {
      "cell_type": "code",
      "source": [
        "df_liquor[\"Institution\"].fillna(0, inplace=True)\n",
        "df_liquor[\"Student Pop\"].fillna(0, inplace=True)\n",
        "df_liquor[\"Size\"].fillna(\"None\", inplace=True)"
      ],
      "metadata": {
        "id": "fZNFfo3lcQLJ"
      },
      "execution_count": null,
      "outputs": []
    },
    {
      "cell_type": "code",
      "source": [
        "df_liquor['City'] = df_liquor['City'].astype(\"category\")\n",
        "df_liquor['County'] = df_liquor['County'].astype(\"category\")\n",
        "df_liquor['category_name'] = df_liquor['category_name'].astype(\"category\")\n",
        "df_liquor['StoreName'] = df_liquor['StoreName'].astype(\"category\")\n",
        "df_liquor['Size'] = df_liquor['Size'].astype(\"category\")\n",
        "df_liquor['Zipcode'] = df_liquor['Zipcode'].astype(\"category\")"
      ],
      "metadata": {
        "id": "qRc-0Ss6R2Q8"
      },
      "execution_count": null,
      "outputs": []
    },
    {
      "cell_type": "code",
      "source": [
        "df_liquor.dtypes"
      ],
      "metadata": {
        "colab": {
          "base_uri": "https://localhost:8080/"
        },
        "id": "4FikYvyVS2HD",
        "outputId": "1f387448-4857-445e-dfca-49fadda34d37"
      },
      "execution_count": null,
      "outputs": [
        {
          "output_type": "execute_result",
          "data": {
            "text/plain": [
              "Date                   datetime64[ns]\n",
              "Month                          object\n",
              "DayOfWeek                      object\n",
              "StoreName                    category\n",
              "Zipcode                      category\n",
              "City                         category\n",
              "County                       category\n",
              "category_name                category\n",
              "sale_liters                   float64\n",
              "sale_dollars                  float64\n",
              "state_bottle_retail            object\n",
              "NearHoliday                     int64\n",
              "CostPerLiter                  float64\n",
              "Category                       object\n",
              "CategoryNum                     int64\n",
              "Student Pop                   float64\n",
              "Institution                   float64\n",
              "Size                         category\n",
              "dtype: object"
            ]
          },
          "metadata": {},
          "execution_count": 20
        }
      ]
    },
    {
      "cell_type": "code",
      "source": [
        "med = df_liquor[\"sale_liters\"].astype(float).describe()[\"50%\"]\n",
        "df_liquor[\"Sale Amount\"] = df_liquor[\"sale_liters\"].map(lambda y: \"Large\" if y >= med else \"Small\")"
      ],
      "metadata": {
        "id": "DEjzj476MAo0"
      },
      "execution_count": null,
      "outputs": []
    },
    {
      "cell_type": "markdown",
      "source": [
        "# Exploration"
      ],
      "metadata": {
        "id": "LYERm0Csk3xz"
      }
    },
    {
      "cell_type": "code",
      "source": [
        "df_liquor[\"Category\"].value_counts(normalize=True)"
      ],
      "metadata": {
        "colab": {
          "base_uri": "https://localhost:8080/"
        },
        "id": "YFvSrQl4Qu3Y",
        "outputId": "abec71d4-986e-48b6-9e51-f3d0a8082e73"
      },
      "execution_count": null,
      "outputs": [
        {
          "output_type": "execute_result",
          "data": {
            "text/plain": [
              "WHISKY      0.274783\n",
              "VODKA       0.234110\n",
              "OTHER       0.201909\n",
              "RUM         0.085939\n",
              "TEQUILA     0.063932\n",
              "SCHNAPPS    0.052898\n",
              "BRANDY      0.039563\n",
              "SPIRITS     0.024268\n",
              "GIN         0.022598\n",
              "Name: Category, dtype: float64"
            ]
          },
          "metadata": {},
          "execution_count": 22
        }
      ]
    },
    {
      "cell_type": "code",
      "source": [
        "df_liquor[\"sale_dollars\"].describe()"
      ],
      "metadata": {
        "colab": {
          "base_uri": "https://localhost:8080/"
        },
        "id": "7EnGzZ2CiK7Z",
        "outputId": "d66d56d7-aa6e-4897-f7a8-a8194fc1da45"
      },
      "execution_count": null,
      "outputs": [
        {
          "output_type": "execute_result",
          "data": {
            "text/plain": [
              "count    99966.000000\n",
              "mean       151.305585\n",
              "std        417.934073\n",
              "min          1.340000\n",
              "25%         43.560000\n",
              "50%         90.000000\n",
              "75%        163.080000\n",
              "max      39124.800000\n",
              "Name: sale_dollars, dtype: float64"
            ]
          },
          "metadata": {},
          "execution_count": 23
        }
      ]
    },
    {
      "cell_type": "code",
      "source": [
        "df_liquor[df_liquor[\"sale_dollars\"] <= 0]"
      ],
      "metadata": {
        "colab": {
          "base_uri": "https://localhost:8080/",
          "height": 87
        },
        "id": "pIwFfZZ1iOig",
        "outputId": "98c0aa30-1097-42e8-c702-ec70c489d6ee"
      },
      "execution_count": null,
      "outputs": [
        {
          "output_type": "execute_result",
          "data": {
            "text/plain": [
              "Empty DataFrame\n",
              "Columns: [Date, Month, DayOfWeek, StoreName, Zipcode, City, County, category_name, sale_liters, sale_dollars, state_bottle_retail, NearHoliday, CostPerLiter, Category, CategoryNum, Student Pop, Institution, Size, Sale Amount]\n",
              "Index: []"
            ],
            "text/html": [
              "\n",
              "  <div id=\"df-0656e089-8d25-4db1-826a-486e0f70b496\" class=\"colab-df-container\">\n",
              "    <div>\n",
              "<style scoped>\n",
              "    .dataframe tbody tr th:only-of-type {\n",
              "        vertical-align: middle;\n",
              "    }\n",
              "\n",
              "    .dataframe tbody tr th {\n",
              "        vertical-align: top;\n",
              "    }\n",
              "\n",
              "    .dataframe thead th {\n",
              "        text-align: right;\n",
              "    }\n",
              "</style>\n",
              "<table border=\"1\" class=\"dataframe\">\n",
              "  <thead>\n",
              "    <tr style=\"text-align: right;\">\n",
              "      <th></th>\n",
              "      <th>Date</th>\n",
              "      <th>Month</th>\n",
              "      <th>DayOfWeek</th>\n",
              "      <th>StoreName</th>\n",
              "      <th>Zipcode</th>\n",
              "      <th>City</th>\n",
              "      <th>County</th>\n",
              "      <th>category_name</th>\n",
              "      <th>sale_liters</th>\n",
              "      <th>sale_dollars</th>\n",
              "      <th>state_bottle_retail</th>\n",
              "      <th>NearHoliday</th>\n",
              "      <th>CostPerLiter</th>\n",
              "      <th>Category</th>\n",
              "      <th>CategoryNum</th>\n",
              "      <th>Student Pop</th>\n",
              "      <th>Institution</th>\n",
              "      <th>Size</th>\n",
              "      <th>Sale Amount</th>\n",
              "    </tr>\n",
              "  </thead>\n",
              "  <tbody>\n",
              "  </tbody>\n",
              "</table>\n",
              "</div>\n",
              "    <div class=\"colab-df-buttons\">\n",
              "\n",
              "  <div class=\"colab-df-container\">\n",
              "    <button class=\"colab-df-convert\" onclick=\"convertToInteractive('df-0656e089-8d25-4db1-826a-486e0f70b496')\"\n",
              "            title=\"Convert this dataframe to an interactive table.\"\n",
              "            style=\"display:none;\">\n",
              "\n",
              "  <svg xmlns=\"http://www.w3.org/2000/svg\" height=\"24px\" viewBox=\"0 -960 960 960\">\n",
              "    <path d=\"M120-120v-720h720v720H120Zm60-500h600v-160H180v160Zm220 220h160v-160H400v160Zm0 220h160v-160H400v160ZM180-400h160v-160H180v160Zm440 0h160v-160H620v160ZM180-180h160v-160H180v160Zm440 0h160v-160H620v160Z\"/>\n",
              "  </svg>\n",
              "    </button>\n",
              "\n",
              "  <style>\n",
              "    .colab-df-container {\n",
              "      display:flex;\n",
              "      gap: 12px;\n",
              "    }\n",
              "\n",
              "    .colab-df-convert {\n",
              "      background-color: #E8F0FE;\n",
              "      border: none;\n",
              "      border-radius: 50%;\n",
              "      cursor: pointer;\n",
              "      display: none;\n",
              "      fill: #1967D2;\n",
              "      height: 32px;\n",
              "      padding: 0 0 0 0;\n",
              "      width: 32px;\n",
              "    }\n",
              "\n",
              "    .colab-df-convert:hover {\n",
              "      background-color: #E2EBFA;\n",
              "      box-shadow: 0px 1px 2px rgba(60, 64, 67, 0.3), 0px 1px 3px 1px rgba(60, 64, 67, 0.15);\n",
              "      fill: #174EA6;\n",
              "    }\n",
              "\n",
              "    .colab-df-buttons div {\n",
              "      margin-bottom: 4px;\n",
              "    }\n",
              "\n",
              "    [theme=dark] .colab-df-convert {\n",
              "      background-color: #3B4455;\n",
              "      fill: #D2E3FC;\n",
              "    }\n",
              "\n",
              "    [theme=dark] .colab-df-convert:hover {\n",
              "      background-color: #434B5C;\n",
              "      box-shadow: 0px 1px 3px 1px rgba(0, 0, 0, 0.15);\n",
              "      filter: drop-shadow(0px 1px 2px rgba(0, 0, 0, 0.3));\n",
              "      fill: #FFFFFF;\n",
              "    }\n",
              "  </style>\n",
              "\n",
              "    <script>\n",
              "      const buttonEl =\n",
              "        document.querySelector('#df-0656e089-8d25-4db1-826a-486e0f70b496 button.colab-df-convert');\n",
              "      buttonEl.style.display =\n",
              "        google.colab.kernel.accessAllowed ? 'block' : 'none';\n",
              "\n",
              "      async function convertToInteractive(key) {\n",
              "        const element = document.querySelector('#df-0656e089-8d25-4db1-826a-486e0f70b496');\n",
              "        const dataTable =\n",
              "          await google.colab.kernel.invokeFunction('convertToInteractive',\n",
              "                                                    [key], {});\n",
              "        if (!dataTable) return;\n",
              "\n",
              "        const docLinkHtml = 'Like what you see? Visit the ' +\n",
              "          '<a target=\"_blank\" href=https://colab.research.google.com/notebooks/data_table.ipynb>data table notebook</a>'\n",
              "          + ' to learn more about interactive tables.';\n",
              "        element.innerHTML = '';\n",
              "        dataTable['output_type'] = 'display_data';\n",
              "        await google.colab.output.renderOutput(dataTable, element);\n",
              "        const docLink = document.createElement('div');\n",
              "        docLink.innerHTML = docLinkHtml;\n",
              "        element.appendChild(docLink);\n",
              "      }\n",
              "    </script>\n",
              "  </div>\n",
              "\n",
              "    </div>\n",
              "  </div>\n"
            ]
          },
          "metadata": {},
          "execution_count": 24
        }
      ]
    },
    {
      "cell_type": "code",
      "source": [
        "df_liquor[\"sale_liters\"].describe()"
      ],
      "metadata": {
        "colab": {
          "base_uri": "https://localhost:8080/"
        },
        "id": "M_0PPOsbiC88",
        "outputId": "02146fab-95a8-4c0c-f579-6123279e7f0f"
      },
      "execution_count": null,
      "outputs": [
        {
          "output_type": "execute_result",
          "data": {
            "text/plain": [
              "count    99966.000000\n",
              "mean         8.077099\n",
              "std         28.410826\n",
              "min          0.020000\n",
              "25%          1.500000\n",
              "50%          4.500000\n",
              "75%          9.000000\n",
              "max       2016.000000\n",
              "Name: sale_liters, dtype: float64"
            ]
          },
          "metadata": {},
          "execution_count": 25
        }
      ]
    },
    {
      "cell_type": "code",
      "source": [
        "df_liquor[df_liquor[\"sale_liters\"] <= 0]"
      ],
      "metadata": {
        "colab": {
          "base_uri": "https://localhost:8080/",
          "height": 87
        },
        "id": "aBQTtuYniVZy",
        "outputId": "0270162d-1ebd-4e59-b197-2f16a6a9dbd0"
      },
      "execution_count": null,
      "outputs": [
        {
          "output_type": "execute_result",
          "data": {
            "text/plain": [
              "Empty DataFrame\n",
              "Columns: [Date, Month, DayOfWeek, StoreName, Zipcode, City, County, category_name, sale_liters, sale_dollars, state_bottle_retail, NearHoliday, CostPerLiter, Category, CategoryNum, Student Pop, Institution, Size, Sale Amount]\n",
              "Index: []"
            ],
            "text/html": [
              "\n",
              "  <div id=\"df-4c6ebc86-5409-4190-b542-294872992750\" class=\"colab-df-container\">\n",
              "    <div>\n",
              "<style scoped>\n",
              "    .dataframe tbody tr th:only-of-type {\n",
              "        vertical-align: middle;\n",
              "    }\n",
              "\n",
              "    .dataframe tbody tr th {\n",
              "        vertical-align: top;\n",
              "    }\n",
              "\n",
              "    .dataframe thead th {\n",
              "        text-align: right;\n",
              "    }\n",
              "</style>\n",
              "<table border=\"1\" class=\"dataframe\">\n",
              "  <thead>\n",
              "    <tr style=\"text-align: right;\">\n",
              "      <th></th>\n",
              "      <th>Date</th>\n",
              "      <th>Month</th>\n",
              "      <th>DayOfWeek</th>\n",
              "      <th>StoreName</th>\n",
              "      <th>Zipcode</th>\n",
              "      <th>City</th>\n",
              "      <th>County</th>\n",
              "      <th>category_name</th>\n",
              "      <th>sale_liters</th>\n",
              "      <th>sale_dollars</th>\n",
              "      <th>state_bottle_retail</th>\n",
              "      <th>NearHoliday</th>\n",
              "      <th>CostPerLiter</th>\n",
              "      <th>Category</th>\n",
              "      <th>CategoryNum</th>\n",
              "      <th>Student Pop</th>\n",
              "      <th>Institution</th>\n",
              "      <th>Size</th>\n",
              "      <th>Sale Amount</th>\n",
              "    </tr>\n",
              "  </thead>\n",
              "  <tbody>\n",
              "  </tbody>\n",
              "</table>\n",
              "</div>\n",
              "    <div class=\"colab-df-buttons\">\n",
              "\n",
              "  <div class=\"colab-df-container\">\n",
              "    <button class=\"colab-df-convert\" onclick=\"convertToInteractive('df-4c6ebc86-5409-4190-b542-294872992750')\"\n",
              "            title=\"Convert this dataframe to an interactive table.\"\n",
              "            style=\"display:none;\">\n",
              "\n",
              "  <svg xmlns=\"http://www.w3.org/2000/svg\" height=\"24px\" viewBox=\"0 -960 960 960\">\n",
              "    <path d=\"M120-120v-720h720v720H120Zm60-500h600v-160H180v160Zm220 220h160v-160H400v160Zm0 220h160v-160H400v160ZM180-400h160v-160H180v160Zm440 0h160v-160H620v160ZM180-180h160v-160H180v160Zm440 0h160v-160H620v160Z\"/>\n",
              "  </svg>\n",
              "    </button>\n",
              "\n",
              "  <style>\n",
              "    .colab-df-container {\n",
              "      display:flex;\n",
              "      gap: 12px;\n",
              "    }\n",
              "\n",
              "    .colab-df-convert {\n",
              "      background-color: #E8F0FE;\n",
              "      border: none;\n",
              "      border-radius: 50%;\n",
              "      cursor: pointer;\n",
              "      display: none;\n",
              "      fill: #1967D2;\n",
              "      height: 32px;\n",
              "      padding: 0 0 0 0;\n",
              "      width: 32px;\n",
              "    }\n",
              "\n",
              "    .colab-df-convert:hover {\n",
              "      background-color: #E2EBFA;\n",
              "      box-shadow: 0px 1px 2px rgba(60, 64, 67, 0.3), 0px 1px 3px 1px rgba(60, 64, 67, 0.15);\n",
              "      fill: #174EA6;\n",
              "    }\n",
              "\n",
              "    .colab-df-buttons div {\n",
              "      margin-bottom: 4px;\n",
              "    }\n",
              "\n",
              "    [theme=dark] .colab-df-convert {\n",
              "      background-color: #3B4455;\n",
              "      fill: #D2E3FC;\n",
              "    }\n",
              "\n",
              "    [theme=dark] .colab-df-convert:hover {\n",
              "      background-color: #434B5C;\n",
              "      box-shadow: 0px 1px 3px 1px rgba(0, 0, 0, 0.15);\n",
              "      filter: drop-shadow(0px 1px 2px rgba(0, 0, 0, 0.3));\n",
              "      fill: #FFFFFF;\n",
              "    }\n",
              "  </style>\n",
              "\n",
              "    <script>\n",
              "      const buttonEl =\n",
              "        document.querySelector('#df-4c6ebc86-5409-4190-b542-294872992750 button.colab-df-convert');\n",
              "      buttonEl.style.display =\n",
              "        google.colab.kernel.accessAllowed ? 'block' : 'none';\n",
              "\n",
              "      async function convertToInteractive(key) {\n",
              "        const element = document.querySelector('#df-4c6ebc86-5409-4190-b542-294872992750');\n",
              "        const dataTable =\n",
              "          await google.colab.kernel.invokeFunction('convertToInteractive',\n",
              "                                                    [key], {});\n",
              "        if (!dataTable) return;\n",
              "\n",
              "        const docLinkHtml = 'Like what you see? Visit the ' +\n",
              "          '<a target=\"_blank\" href=https://colab.research.google.com/notebooks/data_table.ipynb>data table notebook</a>'\n",
              "          + ' to learn more about interactive tables.';\n",
              "        element.innerHTML = '';\n",
              "        dataTable['output_type'] = 'display_data';\n",
              "        await google.colab.output.renderOutput(dataTable, element);\n",
              "        const docLink = document.createElement('div');\n",
              "        docLink.innerHTML = docLinkHtml;\n",
              "        element.appendChild(docLink);\n",
              "      }\n",
              "    </script>\n",
              "  </div>\n",
              "\n",
              "    </div>\n",
              "  </div>\n"
            ]
          },
          "metadata": {},
          "execution_count": 26
        }
      ]
    },
    {
      "cell_type": "code",
      "source": [
        "df_liquor[\"Size\"].value_counts(normalize=True)"
      ],
      "metadata": {
        "colab": {
          "base_uri": "https://localhost:8080/"
        },
        "id": "-h_J3GjKLAGr",
        "outputId": "ce5f7e53-00fc-4a6f-a5ef-222141a216ae"
      },
      "execution_count": null,
      "outputs": [
        {
          "output_type": "execute_result",
          "data": {
            "text/plain": [
              "None       0.481334\n",
              "Large      0.299382\n",
              "Midsize    0.129634\n",
              "Small      0.089650\n",
              "Name: Size, dtype: float64"
            ]
          },
          "metadata": {},
          "execution_count": 27
        }
      ]
    },
    {
      "cell_type": "code",
      "source": [
        "df_liquor[\"Institution\"].value_counts(normalize=True).plot.bar()"
      ],
      "metadata": {
        "colab": {
          "base_uri": "https://localhost:8080/",
          "height": 456
        },
        "id": "vScb01lLfOv2",
        "outputId": "f98d2f6d-d547-49ff-ba1c-6bbf6f4d8df2"
      },
      "execution_count": null,
      "outputs": [
        {
          "output_type": "execute_result",
          "data": {
            "text/plain": [
              "<Axes: >"
            ]
          },
          "metadata": {},
          "execution_count": 28
        },
        {
          "output_type": "display_data",
          "data": {
            "text/plain": [
              "<Figure size 640x480 with 1 Axes>"
            ],
            "image/png": "[encoded data removed]"
          },
          "metadata": {}
        }
      ]
    },
    {
      "cell_type": "code",
      "source": [
        "import seaborn as sns\n",
        "props = df_liquor['NearHoliday'].value_counts(normalize=True)\n",
        "\n",
        "sns.set(style=\"white\")\n",
        "\n",
        "plt.figure(figsize=(10, 6))\n",
        "sns.barplot(x=[\"Not Near Holiday\", \"Near Holiday\"], y=props)\n",
        "plt.ylabel(\"Proportion of Sales\")\n",
        "# plt.title(\"\")\n",
        "\n",
        "plt.show()"
      ],
      "metadata": {
        "colab": {
          "base_uri": "https://localhost:8080/",
          "height": 527
        },
        "id": "1cFXhBXldLMr",
        "outputId": "dfa894d0-adfc-4fe7-f266-7da57b343516"
      },
      "execution_count": null,
      "outputs": [
        {
          "output_type": "display_data",
          "data": {
            "text/plain": [
              "<Figure size 1000x600 with 1 Axes>"
            ],
            "image/png": "[encoded data removed]"
          },
          "metadata": {}
        }
      ]
    },
    {
      "cell_type": "markdown",
      "source": [
        "# Save Data to CSV"
      ],
      "metadata": {
        "id": "XbVX--dOf-jd"
      }
    },
    {
      "cell_type": "code",
      "source": [
        "df_liquor.to_csv(\"client_b\", index=False)"
      ],
      "metadata": {
        "id": "0rc_9D_ogAqR"
      },
      "execution_count": null,
      "outputs": []
    },
    {
      "cell_type": "markdown",
      "source": [
        "# Sources"
      ],
      "metadata": {
        "id": "NoI_OBR-RlZ1"
      }
    },
    {
      "cell_type": "markdown",
      "source": [
        "US Holidays: https://pypi.org/project/holidays/"
      ],
      "metadata": {
        "id": "uAfQBj47T5UE"
      }
    },
    {
      "cell_type": "code",
      "source": [
        "us_holidays = holidays.country_holidays('US', years=2012)\n",
        "for day in us_holidays.items():\n",
        "    print(day)"
      ],
      "metadata": {
        "id": "lEVWOr99RnIX",
        "colab": {
          "base_uri": "https://localhost:8080/"
        },
        "outputId": "d2e014a5-a792-43d3-c8a9-534143fa9dc9"
      },
      "execution_count": null,
      "outputs": [
        {
          "output_type": "stream",
          "name": "stdout",
          "text": [
            "(datetime.date(2012, 1, 16), 'Martin Luther King Jr. Day')\n",
            "(datetime.date(2012, 2, 20), \"Washington's Birthday\")\n",
            "(datetime.date(2012, 10, 8), 'Columbus Day')\n",
            "(datetime.date(2012, 1, 1), \"New Year's Day\")\n",
            "(datetime.date(2012, 1, 2), \"New Year's Day (Observed)\")\n",
            "(datetime.date(2012, 5, 28), 'Memorial Day')\n",
            "(datetime.date(2012, 7, 4), 'Independence Day')\n",
            "(datetime.date(2012, 9, 3), 'Labor Day')\n",
            "(datetime.date(2012, 11, 11), 'Veterans Day')\n",
            "(datetime.date(2012, 11, 12), 'Veterans Day (Observed)')\n",
            "(datetime.date(2012, 11, 22), 'Thanksgiving')\n",
            "(datetime.date(2012, 12, 25), 'Christmas Day')\n"
          ]
        }
      ]
    },
    {
      "cell_type": "markdown",
      "source": [
        "Iowa Colleges: https://en.wikipedia.org/wiki/List_of_colleges_and_universities_in_Iowa"
      ],
      "metadata": {
        "id": "DLGXk31IT2Xr"
      }
    }
  ]
}